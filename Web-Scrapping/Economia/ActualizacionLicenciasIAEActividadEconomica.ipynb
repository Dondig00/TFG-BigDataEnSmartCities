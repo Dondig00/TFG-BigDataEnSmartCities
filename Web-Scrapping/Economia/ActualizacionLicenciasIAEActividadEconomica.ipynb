{
 "cells": [
  {
   "cell_type": "code",
   "execution_count": null,
   "metadata": {},
   "outputs": [],
   "source": [
    "import csv\n",
    "import urllib.request"
   ]
  },
  {
   "cell_type": "code",
   "execution_count": null,
   "metadata": {},
   "outputs": [],
   "source": [
    "url = 'https://datosabiertos.jcyl.es/web/jcyl/risp/es/economia/licencias-actividad/1284175982097.csv'\n",
    "response = urllib.request.urlopen(url)\n",
    "lines = [l.decode('ISO-8859-1') for l in response.readlines()]\n",
    "lista = list(lines)\n",
    "cr = csv.reader(lines)\n",
    "\n",
    "for row in cr:\n",
    "    print(row)"
   ]
  },
  {
   "cell_type": "code",
   "execution_count": null,
   "metadata": {},
   "outputs": [],
   "source": []
  },
  {
   "cell_type": "code",
   "execution_count": null,
   "metadata": {},
   "outputs": [],
   "source": []
  },
  {
   "cell_type": "code",
   "execution_count": null,
   "metadata": {},
   "outputs": [],
   "source": [
    "lista.pop(0)"
   ]
  },
  {
   "cell_type": "code",
   "execution_count": null,
   "metadata": {},
   "outputs": [],
   "source": [
    "lista.pop(0)"
   ]
  },
  {
   "cell_type": "code",
   "execution_count": null,
   "metadata": {},
   "outputs": [],
   "source": [
    "lista.pop(0)"
   ]
  },
  {
   "cell_type": "code",
   "execution_count": null,
   "metadata": {},
   "outputs": [],
   "source": [
    "lista.pop(0)"
   ]
  },
  {
   "cell_type": "code",
   "execution_count": null,
   "metadata": {},
   "outputs": [],
   "source": [
    "lista.pop(0)"
   ]
  },
  {
   "cell_type": "code",
   "execution_count": null,
   "metadata": {},
   "outputs": [],
   "source": [
    "lista[0]=\"FECHA,PROVINCIA TRIBUTARIA,OTROS_NO_INFORMADO,AGRICULTURA_NO_INFORMADO,INDUSTRIA_NO_INFORMADO,CONSTRUCCION_NO_INFORMADO,SERVICIOS_NO_INFORMADO,TOTAL_NO_INFORMADO,OTROS_MUNICIPAL,AGRICULTURA_MUNICIPAL,INDUSTRIA_MUNICIPAL,CONSTRUCCION_MUNICIPAL,SERVICIOS_MUNICIPAL,TOTAL_MUNICIPAL,OTROS_NACIONAL,AGRICULTURA_NACIONAL,INDUSTRIA_NACIONAL,CONSTRUCCION_NACIONAL,SERVICIOS_NACIONAL,TOTAL_NACIONAL,OTROS_PROVINCIAL,AGRICULTURA_PROVINCIAL,INDUSTRIA_PROVINCIAL,CONSTRUCCION_PROVINCIAL,SERVICIOS_PROVINCIAL,TOTAL_PROVINCIAL\""
   ]
  },
  {
   "cell_type": "code",
   "execution_count": null,
   "metadata": {},
   "outputs": [],
   "source": [
    "lista[1]"
   ]
  },
  {
   "cell_type": "code",
   "execution_count": null,
   "metadata": {},
   "outputs": [],
   "source": [
    "#lista[2]=\"1997\"+lista[2]"
   ]
  },
  {
   "cell_type": "code",
   "execution_count": null,
   "metadata": {},
   "outputs": [],
   "source": [
    "lista[1][1:5]"
   ]
  },
  {
   "cell_type": "code",
   "execution_count": null,
   "metadata": {},
   "outputs": [],
   "source": [
    "lista"
   ]
  },
  {
   "cell_type": "markdown",
   "metadata": {},
   "source": [
    "de 9 en 9 para todas las comunidades."
   ]
  },
  {
   "cell_type": "code",
   "execution_count": null,
   "metadata": {},
   "outputs": [],
   "source": [
    "print(len(lista))"
   ]
  },
  {
   "cell_type": "code",
   "execution_count": null,
   "metadata": {},
   "outputs": [],
   "source": [
    "lista[0]"
   ]
  },
  {
   "cell_type": "code",
   "execution_count": null,
   "metadata": {},
   "outputs": [],
   "source": [
    "#lista[1][0:6]=lista[1][0:6].replace(\"1\", \"1997\")\n",
    "nuevalista=lista[1].replace('\"1997\"', \"1997\")"
   ]
  },
  {
   "cell_type": "code",
   "execution_count": null,
   "metadata": {},
   "outputs": [],
   "source": [
    "nuevalista"
   ]
  },
  {
   "cell_type": "code",
   "execution_count": null,
   "metadata": {},
   "outputs": [],
   "source": [
    "lista[1]"
   ]
  },
  {
   "cell_type": "code",
   "execution_count": null,
   "metadata": {},
   "outputs": [],
   "source": [
    "fecha=\"1997\""
   ]
  },
  {
   "cell_type": "code",
   "execution_count": null,
   "metadata": {},
   "outputs": [],
   "source": [
    "for row in lista:\n",
    "    #print(row[0])\n",
    "    if(row[0]=='\"'):\n",
    "       fecha=row[1:5]\n",
    "       row=row.replace(row[0:6], row[1:5])\n",
    "       \n",
    "    if(row[0]==\",\"):\n",
    "        row=fecha+row\n",
    "        \n",
    "    print(row)"
   ]
  },
  {
   "cell_type": "markdown",
   "metadata": {},
   "source": [
    "for i in range(len(lista)):\n",
    "    if(lista[i][0]=='\"'):\n",
    "       fecha=lista[i][1:5]\n",
    "       lista[i]=lista[i].replace(lista[i][0:6], lista[i][1:5])\n",
    "       \n",
    "    if(lista[i][0]==\",\"):\n",
    "        lista[i]=fecha+lista[i]\n",
    "    print(lista[i])\n"
   ]
  },
  {
   "cell_type": "code",
   "execution_count": null,
   "metadata": {},
   "outputs": [],
   "source": [
    "lista"
   ]
  },
  {
   "cell_type": "code",
   "execution_count": null,
   "metadata": {},
   "outputs": [],
   "source": [
    "import numpy as np\n",
    "\n",
    "datos = np.asarray(lista)\n",
    "np.savetxt(\"LicenciasActividadIE.csv\",   # Archivo de salida\n",
    "           datos.T,        # Trasponemos los datos\n",
    "           fmt=\"%s\",       # Usamos números enteros\n",
    "           delimiter=\",\")  # Para que sea un CSV de verdad"
   ]
  },
  {
   "cell_type": "code",
   "execution_count": null,
   "metadata": {},
   "outputs": [],
   "source": [
    "import sys"
   ]
  },
  {
   "cell_type": "code",
   "execution_count": null,
   "metadata": {},
   "outputs": [],
   "source": [
    "os.system(\"mongoimport --type csv -d castillaYLeon -c numLicenciasIAEActividadesEconomicas --headerline --drop C:/Users/david/TFG/Web-Scrapping/Economia/LicenciasActividadIE.csv\")"
   ]
  }
 ],
 "metadata": {
  "kernelspec": {
   "display_name": "Python 3",
   "language": "python",
   "name": "python3"
  },
  "language_info": {
   "codemirror_mode": {
    "name": "ipython",
    "version": 3
   },
   "file_extension": ".py",
   "mimetype": "text/x-python",
   "name": "python",
   "nbconvert_exporter": "python",
   "pygments_lexer": "ipython3",
   "version": "3.7.4"
  }
 },
 "nbformat": 4,
 "nbformat_minor": 2
}
