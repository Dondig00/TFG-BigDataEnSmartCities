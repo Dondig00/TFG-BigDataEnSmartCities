{
 "cells": [
  {
   "cell_type": "code",
   "execution_count": null,
   "metadata": {},
   "outputs": [],
   "source": [
    "import pandas as pd\n",
    "import numpy as np\n",
    "import scipy as sp\n",
    "import plotly.express as px\n",
    "from pyspark.sql import functions as f\n",
    "import plotly.graph_objects as go"
   ]
  },
  {
   "cell_type": "code",
   "execution_count": null,
   "metadata": {},
   "outputs": [],
   "source": [
    "from pyspark.sql import SparkSession\n",
    "\n",
    "my_spark = SparkSession \\\n",
    "    .builder \\\n",
    "    .appName(\"PySparkShell\") \\\n",
    "    .config(\"spark.mongodb.input.uri\", \"mongodb://127.0.0.1/castillaYLeon.numLicenciasIAEActividadesEconomicas\") \\\n",
    "    .config(\"spark.mongodb.output.uri\", \"mongodb://127.0.0.1/castillaYLeon.numLicenciasIAEActividadesEconomicas\") \\\n",
    "    .getOrCreate()"
   ]
  },
  {
   "cell_type": "code",
   "execution_count": null,
   "metadata": {},
   "outputs": [],
   "source": [
    "df = spark.read.format(\"mongo\").load()\n",
    "df = df.drop(\"_id\")"
   ]
  },
  {
   "cell_type": "code",
   "execution_count": null,
   "metadata": {},
   "outputs": [],
   "source": [
    "import geopandas as gpd\n"
   ]
  },
  {
   "cell_type": "code",
   "execution_count": null,
   "metadata": {},
   "outputs": [],
   "source": [
    "geojsonCyL = gpd.read_file('C:/Users/david/Downloads/provincias-espanolas.geojson')"
   ]
  },
  {
   "cell_type": "code",
   "execution_count": null,
   "metadata": {},
   "outputs": [],
   "source": [
    "geojsonCyL.texto=geojsonCyL.texto.str.capitalize()"
   ]
  },
  {
   "cell_type": "code",
   "execution_count": null,
   "metadata": {},
   "outputs": [],
   "source": [
    "!pip install unidecode"
   ]
  },
  {
   "cell_type": "code",
   "execution_count": null,
   "metadata": {},
   "outputs": [],
   "source": [
    "from unidecode import unidecode"
   ]
  },
  {
   "cell_type": "code",
   "execution_count": null,
   "metadata": {},
   "outputs": [],
   "source": [
    "dfLicencias = df.toPandas()"
   ]
  },
  {
   "cell_type": "code",
   "execution_count": null,
   "metadata": {},
   "outputs": [],
   "source": [
    "dfLicencias[\"PROVINCIA TRIBUTARIA\"]=dfLicencias[\"PROVINCIA TRIBUTARIA\"].str.capitalize()"
   ]
  },
  {
   "cell_type": "code",
   "execution_count": null,
   "metadata": {},
   "outputs": [],
   "source": [
    "dfLicencias=dfLicencias.sort_values(by=['PROVINCIA TRIBUTARIA'])\n",
    "geojsonCyL=geojsonCyL.sort_values(by=['texto'])"
   ]
  },
  {
   "cell_type": "code",
   "execution_count": null,
   "metadata": {},
   "outputs": [],
   "source": [
    "def switcher(argument):\n",
    "    switcher = {\n",
    "        \"Ávila\": 15,\n",
    "        \"León\": 34,\n",
    "        \"Burgos\":24,\n",
    "        \"Palencia\":3,\n",
    "        \"Salamanca\":26,\n",
    "        \"Segovia\":50,\n",
    "        \"Soria\":45,\n",
    "        \"Valladolid\":29,\n",
    "        \"Zamora\":51,\n",
    "        #\"Total\":\"Total\"\n",
    "        \n",
    "    }\n",
    "    return switcher.get(argument)"
   ]
  },
  {
   "cell_type": "code",
   "execution_count": null,
   "metadata": {},
   "outputs": [],
   "source": [
    "dfLicencias=dfLicencias.replace(to_replace =\"Leon\",\n",
    "                 value =\"León\")\n",
    "dfLicencias=dfLicencias.replace(to_replace =\"Avila\",\n",
    "                 value =\"Ávila\")"
   ]
  },
  {
   "cell_type": "code",
   "execution_count": null,
   "metadata": {},
   "outputs": [],
   "source": [
    "dfLicencias['Codigo']=0"
   ]
  },
  {
   "cell_type": "code",
   "execution_count": null,
   "metadata": {},
   "outputs": [],
   "source": [
    "for i in range(len(dfLicencias[\"PROVINCIA TRIBUTARIA\"])):\n",
    "  \n",
    "    dfLicencias['Codigo'][i]=switcher(dfLicencias[\"PROVINCIA TRIBUTARIA\"][i])\n"
   ]
  },
  {
   "cell_type": "code",
   "execution_count": null,
   "metadata": {},
   "outputs": [],
   "source": [
    "#dfLicencias[\"PROVINCIA TRIBUTARIA\"]"
   ]
  },
  {
   "cell_type": "code",
   "execution_count": null,
   "metadata": {},
   "outputs": [],
   "source": [
    "dfLicencias = dfLicencias.loc[dfLicencias[\"PROVINCIA TRIBUTARIA\"] != \"Total\",:]"
   ]
  },
  {
   "cell_type": "code",
   "execution_count": null,
   "metadata": {},
   "outputs": [],
   "source": [
    "#dfLicencias[[\"Codigo\",\"PROVINCIA TRIBUTARIA\"]]"
   ]
  },
  {
   "cell_type": "code",
   "execution_count": null,
   "metadata": {},
   "outputs": [],
   "source": [
    "dfLicencias=dfLicencias.sort_values(by=['FECHA'])"
   ]
  },
  {
   "cell_type": "code",
   "execution_count": null,
   "metadata": {},
   "outputs": [],
   "source": [
    "#dfLicencias[dfLicencias['FECHA']==2017]"
   ]
  },
  {
   "cell_type": "code",
   "execution_count": null,
   "metadata": {},
   "outputs": [],
   "source": [
    "provincias_CyL = dfLicencias[\"PROVINCIA TRIBUTARIA\"].unique() \n",
    "list_test = [row[\"codigo\"] for index, row in geojsonCyL.iterrows() if row[\"texto\"] in provincias_CyL]"
   ]
  },
  {
   "cell_type": "code",
   "execution_count": null,
   "metadata": {},
   "outputs": [],
   "source": [
    "#list_test"
   ]
  },
  {
   "cell_type": "code",
   "execution_count": null,
   "metadata": {},
   "outputs": [],
   "source": [
    "#geojson = C:\\Users\\david\\Downloads\\\n",
    "\n",
    "figLicenciasTotalesMunicipales = px.choropleth_mapbox(dfLicencias, geojson=geojsonCyL[geojsonCyL[\"codigo\"].isin(list_test)], color=\"TOTAL_MUNICIPAL\",\n",
    "                           locations=\"Codigo\",\n",
    "                           center={\"lat\": 41.6, \"lon\": -3.7073},\n",
    "                           mapbox_style=\"carto-positron\", zoom=6, hover_name=\"PROVINCIA TRIBUTARIA\", title=\"Licencias Totales Municipales\",\n",
    "                           animation_frame=\"FECHA\" , labels={'TOTAL_MUNICIPAL':'Licencias IAE Totales Municipales'} , color_continuous_scale=\"Viridis\"\n",
    "                                                     )\n",
    "                          \n",
    "figLicenciasTotalesMunicipales.update_layout(margin={\"r\":0,\"t\":0,\"l\":0,\"b\":0} , title_text=\"Licencias IAE\" )\n",
    "figLicenciasTotalesMunicipales.show()"
   ]
  },
  {
   "cell_type": "code",
   "execution_count": null,
   "metadata": {},
   "outputs": [],
   "source": [
    "#df.printSchema()"
   ]
  },
  {
   "cell_type": "code",
   "execution_count": null,
   "metadata": {},
   "outputs": [],
   "source": [
    "#dfLicencias.head(10)"
   ]
  },
  {
   "cell_type": "code",
   "execution_count": null,
   "metadata": {},
   "outputs": [],
   "source": [
    "figLicenciasAgriculturaMunicipales = px.choropleth_mapbox(dfLicencias, geojson=geojsonCyL[geojsonCyL[\"codigo\"].isin(list_test)], color=\"AGRICULTURA_MUNICIPAL\",\n",
    "                           locations=\"Codigo\",\n",
    "                           center={\"lat\": 41.6, \"lon\": -3.7073},\n",
    "                           mapbox_style=\"carto-positron\", zoom=6, hover_name=\"PROVINCIA TRIBUTARIA\", title=\"Licencias Agricultura Municipales\",\n",
    "                           animation_frame=\"FECHA\" , labels={'AGRICULTURA_MUNICIPAL':'Licencias IAE Agricultura Municipales'} , color_continuous_scale=\"Viridis\"\n",
    "                          )\n",
    "figLicenciasAgriculturaMunicipales.update_layout(margin={\"r\":0,\"t\":0,\"l\":0,\"b\":0} , title_text=\"Licencias IAE\" )\n",
    "figLicenciasAgriculturaMunicipales.show()"
   ]
  },
  {
   "cell_type": "code",
   "execution_count": null,
   "metadata": {},
   "outputs": [],
   "source": [
    "figLicenciasConstruccionMunicipales = px.choropleth_mapbox(dfLicencias, geojson=geojsonCyL[geojsonCyL[\"codigo\"].isin(list_test)], color=\"CONSTRUCCION_MUNICIPAL\",\n",
    "                           locations=\"Codigo\",\n",
    "                           center={\"lat\": 41.6, \"lon\": -3.7073},\n",
    "                           mapbox_style=\"carto-positron\", zoom=6, hover_name=\"PROVINCIA TRIBUTARIA\", title=\"Licencias Construcción Municipales\",\n",
    "                           animation_frame=\"FECHA\" , labels={'CONSTRUCCION_MUNICIPAL':'Licencias IAE Construcción Municipales'} , color_continuous_scale=\"Viridis\"\n",
    "                          )\n",
    "figLicenciasConstruccionMunicipales.update_layout(margin={\"r\":0,\"t\":0,\"l\":0,\"b\":0} , title_text=\"Licencias IAE\" )\n",
    "figLicenciasConstruccionMunicipales.show()"
   ]
  },
  {
   "cell_type": "code",
   "execution_count": null,
   "metadata": {},
   "outputs": [],
   "source": [
    "figLicenciasIndustriaMunicipales = px.choropleth_mapbox(dfLicencias, geojson=geojsonCyL[geojsonCyL[\"codigo\"].isin(list_test)], color=\"INDUSTRIA_MUNICIPAL\",\n",
    "                           locations=\"Codigo\",\n",
    "                           center={\"lat\": 41.6, \"lon\": -3.7073},\n",
    "                           mapbox_style=\"carto-positron\", zoom=6, hover_name=\"PROVINCIA TRIBUTARIA\", title=\"Licencias Construcción Municipales\",\n",
    "                           animation_frame=\"FECHA\" , labels={'INDUSTRIA_MUNICIPAL':'Licencias IAE Industria Municipales'} , color_continuous_scale=\"Viridis\"\n",
    "                          )\n",
    "figLicenciasIndustriaMunicipales.update_layout(margin={\"r\":0,\"t\":0,\"l\":0,\"b\":0} , title_text=\"Licencias IAE\" )\n",
    "figLicenciasIndustriaMunicipales.show()"
   ]
  },
  {
   "cell_type": "code",
   "execution_count": null,
   "metadata": {},
   "outputs": [],
   "source": [
    "figLicenciasOtrosMunicipales = px.choropleth_mapbox(dfLicencias, geojson=geojsonCyL[geojsonCyL[\"codigo\"].isin(list_test)], color=\"OTROS_MUNICIPAL\",\n",
    "                           locations=\"Codigo\",\n",
    "                           center={\"lat\": 41.6, \"lon\": -3.7073},\n",
    "                           mapbox_style=\"carto-positron\", zoom=6, hover_name=\"PROVINCIA TRIBUTARIA\", title=\"Licencias Otros Municipales\",\n",
    "                           animation_frame=\"FECHA\" , labels={'OTROS_MUNICIPAL':'Licencias IAE Otros Municipales'} , color_continuous_scale=\"Viridis\"\n",
    "                          )\n",
    "figLicenciasOtrosMunicipales.update_layout(margin={\"r\":0,\"t\":0,\"l\":0,\"b\":0} , title_text=\"Licencias IAE\" )\n",
    "figLicenciasOtrosMunicipales.show()"
   ]
  },
  {
   "cell_type": "code",
   "execution_count": null,
   "metadata": {},
   "outputs": [],
   "source": [
    "figLicenciasServiciosMunicipales = px.choropleth_mapbox(dfLicencias, geojson=geojsonCyL[geojsonCyL[\"codigo\"].isin(list_test)], color=\"SERVICIOS_MUNICIPAL\",\n",
    "                           locations=\"Codigo\",\n",
    "                           center={\"lat\": 41.6, \"lon\": -3.7073},\n",
    "                           mapbox_style=\"carto-positron\", zoom=6, hover_name=\"PROVINCIA TRIBUTARIA\", title=\"Licencias Servicios Municipales\",\n",
    "                           animation_frame=\"FECHA\" , labels={'SERVICIOS_MUNICIPAL':'Licencias IAE Servicios Municipales'} , color_continuous_scale=\"Viridis\"\n",
    "                          )\n",
    "figLicenciasServiciosMunicipales.update_layout(margin={\"r\":0,\"t\":0,\"l\":0,\"b\":0} , title_text=\"Licencias IAE\" )\n",
    "figLicenciasServiciosMunicipales.show()"
   ]
  },
  {
   "cell_type": "code",
   "execution_count": null,
   "metadata": {},
   "outputs": [],
   "source": [
    "dfLicencias=dfLicencias.replace(to_replace =\".\",\n",
    "                 value =\"0\")"
   ]
  },
  {
   "cell_type": "code",
   "execution_count": null,
   "metadata": {},
   "outputs": [],
   "source": [
    "figAnualAgricultura = go.Figure()\n",
    "\n",
    "figAnualAgricultura.add_bar(\n",
    "        name=\"Agricultura Municipal\",\n",
    "        x=dfLicencias[\"FECHA\"] , \n",
    "        y=dfLicencias[\"AGRICULTURA_MUNICIPAL\"],\n",
    "        text=dfLicencias[\"PROVINCIA TRIBUTARIA\"]\n",
    "    )\n",
    "figAnualAgricultura.add_bar(\n",
    "        name=\"Agricultura Provincial\",\n",
    "        x=dfLicencias[\"FECHA\"] , \n",
    "        y=dfLicencias[\"AGRICULTURA_PROVINCIAL\"],\n",
    "        text=dfLicencias[\"PROVINCIA TRIBUTARIA\"]\n",
    "    )\n",
    "figAnualAgricultura.add_bar( \n",
    "        name=\"Agricultura Nacional \",\n",
    "        x=dfLicencias[\"FECHA\"] , \n",
    "        y=dfLicencias[\"AGRICULTURA_NACIONAL\"],\n",
    "        text=dfLicencias[\"PROVINCIA TRIBUTARIA\"]\n",
    "    )\n",
    "figAnualAgricultura.add_bar( \n",
    "        name=\"Agricultura Estimada No Informada\",\n",
    "        x=dfLicencias[\"FECHA\"] , \n",
    "        y=dfLicencias[\"AGRICULTURA_NO_INFORMADO\"],\n",
    "        text=dfLicencias[\"PROVINCIA TRIBUTARIA\"]\n",
    "    )\n",
    "\n",
    "\n",
    "figAnualAgricultura.update_layout(\n",
    "    xaxis_title = \"Años\",\n",
    "    yaxis_title = \"Licencias\",\n",
    "    barmode='stack',\n",
    "    legend_title=\"Licencias Agricultura\",\n",
    "    font=dict(\n",
    "        color=\"black\"\n",
    "    ),\n",
    "    title={\n",
    "        'text': \"Gráfica Número de licencias de agricultura repartidas\",\n",
    "        'y': 0.9,\n",
    "        'x':0.4,\n",
    "        'xanchor': 'center',\n",
    "        'yanchor': 'top'\n",
    "    }\n",
    ")\n",
    "\n",
    "    \n",
    "\n",
    "figAnualAgricultura.show()"
   ]
  },
  {
   "cell_type": "code",
   "execution_count": null,
   "metadata": {},
   "outputs": [],
   "source": [
    "figAnualConstruccion = go.Figure()\n",
    "\n",
    "figAnualConstruccion.add_bar(\n",
    "        name=\"Construcción Municipal\",\n",
    "        x=dfLicencias[\"FECHA\"] , \n",
    "        y=dfLicencias[\"CONSTRUCCION_MUNICIPAL\"],\n",
    "        text=dfLicencias[\"PROVINCIA TRIBUTARIA\"]\n",
    "    )\n",
    "figAnualConstruccion.add_bar(\n",
    "        name=\"Construcción Provincial\",\n",
    "        x=dfLicencias[\"FECHA\"] , \n",
    "        y=dfLicencias[\"CONSTRUCCION_PROVINCIAL\"],\n",
    "        text=dfLicencias[\"PROVINCIA TRIBUTARIA\"]\n",
    "    )\n",
    "figAnualConstruccion.add_bar( \n",
    "        name=\"Construcción Nacional \",\n",
    "        x=dfLicencias[\"FECHA\"] , \n",
    "        y=dfLicencias[\"CONSTRUCCION_NACIONAL\"],\n",
    "        text=dfLicencias[\"PROVINCIA TRIBUTARIA\"]\n",
    "    )\n",
    "figAnualConstruccion.add_bar( \n",
    "        name=\"Construcción Estimada No Informada\",\n",
    "        x=dfLicencias[\"FECHA\"] , \n",
    "        y=dfLicencias[\"CONSTRUCCION_NO_INFORMADO\"],\n",
    "        text=dfLicencias[\"PROVINCIA TRIBUTARIA\"]\n",
    "    )\n",
    "\n",
    "\n",
    "figAnualConstruccion.update_layout(\n",
    "    xaxis_title = \"Años\",\n",
    "    yaxis_title = \"Licencias\",\n",
    "    barmode='stack',\n",
    "    legend_title=\"Licencias Construcción\",\n",
    "    font=dict(\n",
    "        color=\"black\"\n",
    "    ),\n",
    "    title={\n",
    "        'text': \"Gráfica Número de licencias de construcción repartidas\",\n",
    "        'y': 0.9,\n",
    "        'x':0.4,\n",
    "        'xanchor': 'center',\n",
    "        'yanchor': 'top'\n",
    "    }\n",
    ")\n",
    "\n",
    "    \n",
    "\n",
    "figAnualConstruccion.show()"
   ]
  },
  {
   "cell_type": "code",
   "execution_count": null,
   "metadata": {},
   "outputs": [],
   "source": [
    "figAnualIndustria = go.Figure()\n",
    "\n",
    "figAnualIndustria.add_bar(\n",
    "        name=\"Industria Municipal\",\n",
    "        x=dfLicencias[\"FECHA\"] , \n",
    "        y=dfLicencias[\"INDUSTRIA_MUNICIPAL\"],\n",
    "        text=dfLicencias[\"PROVINCIA TRIBUTARIA\"]\n",
    "    )\n",
    "figAnualIndustria.add_bar(\n",
    "        name=\"Industria Provincial\",\n",
    "        x=dfLicencias[\"FECHA\"] , \n",
    "        y=dfLicencias[\"INDUSTRIA_PROVINCIAL\"],\n",
    "        text=dfLicencias[\"PROVINCIA TRIBUTARIA\"]\n",
    "    )\n",
    "figAnualIndustria.add_bar( \n",
    "        name=\"Industria Nacional \",\n",
    "        x=dfLicencias[\"FECHA\"] , \n",
    "        y=dfLicencias[\"INDUSTRIA_NACIONAL\"],\n",
    "        text=dfLicencias[\"PROVINCIA TRIBUTARIA\"]\n",
    "    )\n",
    "figAnualIndustria.add_bar( \n",
    "        name=\"Industria Estimada No Informada\",\n",
    "        x=dfLicencias[\"FECHA\"] , \n",
    "        y=dfLicencias[\"INDUSTRIA_NO_INFORMADO\"],\n",
    "        text=dfLicencias[\"PROVINCIA TRIBUTARIA\"]\n",
    "    )\n",
    "\n",
    "\n",
    "figAnualIndustria.update_layout(\n",
    "    xaxis_title = \"Años\",\n",
    "    yaxis_title = \"Licencias\",\n",
    "    barmode='stack',\n",
    "    legend_title=\"Licencias Industria\",\n",
    "    font=dict(\n",
    "        color=\"black\"\n",
    "    ),\n",
    "    title={\n",
    "        'text': \"Gráfica Número de licencias de industria repartidas\",\n",
    "        'y': 0.9,\n",
    "        'x':0.4,\n",
    "        'xanchor': 'center',\n",
    "        'yanchor': 'top'\n",
    "    }\n",
    ")\n",
    "\n",
    "    \n",
    "\n",
    "figAnualIndustria.show()"
   ]
  },
  {
   "cell_type": "code",
   "execution_count": null,
   "metadata": {},
   "outputs": [],
   "source": [
    "figAnualOtros = go.Figure()\n",
    "\n",
    "figAnualOtros.add_bar(\n",
    "        name=\"Otros Municipal\",\n",
    "        x=dfLicencias[\"FECHA\"] , \n",
    "        y=dfLicencias[\"OTROS_MUNICIPAL\"],\n",
    "        text=dfLicencias[\"PROVINCIA TRIBUTARIA\"]\n",
    "    )\n",
    "figAnualOtros.add_bar(\n",
    "        name=\"Otros Provincial\",\n",
    "        x=dfLicencias[\"FECHA\"] , \n",
    "        y=dfLicencias[\"OTROS_PROVINCIAL\"],\n",
    "        text=dfLicencias[\"PROVINCIA TRIBUTARIA\"]\n",
    "    )\n",
    "figAnualOtros.add_bar( \n",
    "        name=\"Otros Nacional \",\n",
    "        x=dfLicencias[\"FECHA\"] , \n",
    "        y=dfLicencias[\"OTROS_NACIONAL\"],\n",
    "        text=dfLicencias[\"PROVINCIA TRIBUTARIA\"]\n",
    "    )\n",
    "figAnualOtros.add_bar( \n",
    "        name=\"Otros Estimados No Informado\",\n",
    "        x=dfLicencias[\"FECHA\"] , \n",
    "        y=dfLicencias[\"OTROS_NO_INFORMADO\"],\n",
    "        text=dfLicencias[\"PROVINCIA TRIBUTARIA\"]\n",
    "    )\n",
    "\n",
    "\n",
    "figAnualOtros.update_layout(\n",
    "    xaxis_title = \"Años\",\n",
    "    yaxis_title = \"Licencias\",\n",
    "    barmode='stack',\n",
    "    legend_title=\"Licencias Otros\",\n",
    "    font=dict(\n",
    "        color=\"black\"\n",
    "    ),\n",
    "    title={\n",
    "        'text': \"Gráfica Número de licencias de otros negocios repartidas\",\n",
    "        'y': 0.9,\n",
    "        'x':0.4,\n",
    "        'xanchor': 'center',\n",
    "        'yanchor': 'top'\n",
    "    }\n",
    ")\n",
    "\n",
    "    \n",
    "\n",
    "figAnualOtros.show()"
   ]
  },
  {
   "cell_type": "code",
   "execution_count": null,
   "metadata": {},
   "outputs": [],
   "source": [
    "figAnualServicios = go.Figure()\n",
    "\n",
    "figAnualServicios.add_bar(\n",
    "        name=\"Servicios Municipal\",\n",
    "        x=dfLicencias[\"FECHA\"] , \n",
    "        y=dfLicencias[\"SERVICIOS_MUNICIPAL\"],\n",
    "        text=dfLicencias[\"PROVINCIA TRIBUTARIA\"]\n",
    "    )\n",
    "figAnualServicios.add_bar(\n",
    "        name=\"Servicios Provincial\",\n",
    "        x=dfLicencias[\"FECHA\"] , \n",
    "        y=dfLicencias[\"SERVICIOS_PROVINCIAL\"],\n",
    "        text=dfLicencias[\"PROVINCIA TRIBUTARIA\"]\n",
    "    )\n",
    "figAnualServicios.add_bar( \n",
    "        name=\"Servicios Nacional \",\n",
    "        x=dfLicencias[\"FECHA\"] , \n",
    "        y=dfLicencias[\"SERVICIOS_NACIONAL\"],\n",
    "        text=dfLicencias[\"PROVINCIA TRIBUTARIA\"]\n",
    "    )\n",
    "figAnualServicios.add_bar( \n",
    "        name=\"Servicios Estimado No Informado\",\n",
    "        x=dfLicencias[\"FECHA\"] , \n",
    "        y=dfLicencias[\"SERVICIOS_NO_INFORMADO\"],\n",
    "        text=dfLicencias[\"PROVINCIA TRIBUTARIA\"]\n",
    "    )\n",
    "\n",
    "\n",
    "figAnualServicios.update_layout(\n",
    "    xaxis_title = \"Años\",\n",
    "    yaxis_title = \"Licencias\",\n",
    "    barmode='stack',\n",
    "    legend_title=\"Licencias Servicios\",\n",
    "    font=dict(\n",
    "        color=\"black\"\n",
    "    ),\n",
    "    title={\n",
    "        'text': \"Gráfica Número de licencias de servicios repartidas\",\n",
    "        'y': 0.9,\n",
    "        'x':0.4,\n",
    "        'xanchor': 'center',\n",
    "        'yanchor': 'top'\n",
    "    }\n",
    ")\n",
    "\n",
    "    \n",
    "\n",
    "figAnualServicios.show()"
   ]
  },
  {
   "cell_type": "code",
   "execution_count": null,
   "metadata": {},
   "outputs": [],
   "source": [
    "figAnualTotal = go.Figure()\n",
    "\n",
    "figAnualTotal.add_bar(\n",
    "        name=\"Total Municipal\",\n",
    "        x=dfLicencias[\"FECHA\"] , \n",
    "        y=dfLicencias[\"TOTAL_MUNICIPAL\"],\n",
    "        text=dfLicencias[\"PROVINCIA TRIBUTARIA\"]\n",
    "    )\n",
    "figAnualTotal.add_bar(\n",
    "        name=\"Total Provincial\",\n",
    "        x=dfLicencias[\"FECHA\"] , \n",
    "        y=dfLicencias[\"TOTAL_PROVINCIAL\"],\n",
    "        text=dfLicencias[\"PROVINCIA TRIBUTARIA\"]\n",
    "    )\n",
    "figAnualTotal.add_bar( \n",
    "        name=\"Total Nacional \",\n",
    "        x=dfLicencias[\"FECHA\"] , \n",
    "        y=dfLicencias[\"TOTAL_NACIONAL\"],\n",
    "        text=dfLicencias[\"PROVINCIA TRIBUTARIA\"]\n",
    "    )\n",
    "figAnualTotal.add_bar( \n",
    "        name=\"Total Estimada No Informada\",\n",
    "        x=dfLicencias[\"FECHA\"] , \n",
    "        y=dfLicencias[\"TOTAL_NO_INFORMADO\"],\n",
    "        text=dfLicencias[\"PROVINCIA TRIBUTARIA\"]\n",
    "    )\n",
    "\n",
    "\n",
    "figAnualTotal.update_layout(\n",
    "    xaxis_title = \"Años\",\n",
    "    yaxis_title = \"Licencias\",\n",
    "    barmode='stack',\n",
    "    legend_title=\"Licencias Totales\",\n",
    "    font=dict(\n",
    "        color=\"black\"\n",
    "    ),\n",
    "    title={\n",
    "        'text': \"Gráfica Número de licencias totales repartidas\",\n",
    "        'y': 0.9,\n",
    "        'x':0.4,\n",
    "        'xanchor': 'center',\n",
    "        'yanchor': 'top'\n",
    "    }\n",
    ")\n",
    "\n",
    "    \n",
    "\n",
    "figAnualTotal.show()"
   ]
  },
  {
   "cell_type": "code",
   "execution_count": null,
   "metadata": {},
   "outputs": [],
   "source": []
  },
  {
   "cell_type": "code",
   "execution_count": null,
   "metadata": {},
   "outputs": [],
   "source": [
    "figLicenciasTotalesMunicipales.write_html(\"C:/Users/david/OneDrive/Imágenes/GraficosPlotly/Economia/LicenciasActividadEconomica/FiguraLicenciasTotalesMunicipales.html\")\n",
    "figLicenciasAgriculturaMunicipales.write_html(\"C:/Users/david/OneDrive/Imágenes/GraficosPlotly/Economia/LicenciasActividadEconomica/FiguraLicenciasAgriculturaMunicipales.html\")\n",
    "figLicenciasConstruccionMunicipales.write_html(\"C:/Users/david/OneDrive/Imágenes/GraficosPlotly/Economia/LicenciasActividadEconomica/FiguraLicenciasConstruccionMunicipales.html\")\n",
    "figLicenciasIndustriaMunicipales.write_html(\"C:/Users/david/OneDrive/Imágenes/GraficosPlotly/Economia/LicenciasActividadEconomica/FiguraLicenciasIndustriaMunicipales.html\")\n",
    "figLicenciasOtrosMunicipales.write_html(\"C:/Users/david/OneDrive/Imágenes/GraficosPlotly/Economia/LicenciasActividadEconomica/FiguraLicenciasOtrosMunicipales.html\")\n",
    "figLicenciasServiciosMunicipales.write_html(\"C:/Users/david/OneDrive/Imágenes/GraficosPlotly/Economia/LicenciasActividadEconomica/FiguraLicenciasServiciosMunicipales.html\")\n",
    "\n",
    "figAnualAgricultura.write_html(\"C:/Users/david/OneDrive/Imágenes/GraficosPlotly/Economia/LicenciasActividadEconomica/FiguraLicenciasAgriculturaRepartidas.html\")\n",
    "figAnualConstruccion.write_html(\"C:/Users/david/OneDrive/Imágenes/GraficosPlotly/Economia/LicenciasActividadEconomica/FiguraLicenciasConstruccionRepartidas.html\")\n",
    "figAnualIndustria.write_html(\"C:/Users/david/OneDrive/Imágenes/GraficosPlotly/Economia/LicenciasActividadEconomica/FiguraLicenciasIndustriaRepartidas.html\")\n",
    "figAnualOtros.write_html(\"C:/Users/david/OneDrive/Imágenes/GraficosPlotly/Economia/LicenciasActividadEconomica/FiguraLicenciasOtrosRepartidas.html\")\n",
    "figAnualServicios.write_html(\"C:/Users/david/OneDrive/Imágenes/GraficosPlotly/Economia/LicenciasActividadEconomica/FiguraLicenciasServiciosRepartidas.html\")\n",
    "figAnualTotal.write_html(\"C:/Users/david/OneDrive/Imágenes/GraficosPlotly/Economia/LicenciasActividadEconomica/FiguraLicenciasTotalesRepartidas.html\")"
   ]
  },
  {
   "cell_type": "code",
   "execution_count": null,
   "metadata": {},
   "outputs": [],
   "source": []
  }
 ],
 "metadata": {
  "kernelspec": {
   "display_name": "Python 3",
   "language": "python",
   "name": "python3"
  },
  "language_info": {
   "codemirror_mode": {
    "name": "ipython",
    "version": 3
   },
   "file_extension": ".py",
   "mimetype": "text/x-python",
   "name": "python",
   "nbconvert_exporter": "python",
   "pygments_lexer": "ipython3",
   "version": "3.7.4"
  }
 },
 "nbformat": 4,
 "nbformat_minor": 2
}
