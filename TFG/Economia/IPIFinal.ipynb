{
 "cells": [
  {
   "cell_type": "code",
   "execution_count": null,
   "metadata": {},
   "outputs": [],
   "source": [
    "from pyspark.sql import SparkSession\n",
    "\n",
    "\n",
    "\n",
    "my_spark = SparkSession \\\n",
    "    .builder \\\n",
    "    .appName(\"PySparkShell\") \\\n",
    "    .config(\"spark.mongodb.input.uri\", \"mongodb://127.0.0.1/castillaYLeon.ipiArreglado\") \\\n",
    "    .config(\"spark.mongodb.output.uri\", \"mongodb://127.0.0.1/castillaYLeon.ipiArreglado\") \\\n",
    "    .getOrCreate()\n"
   ]
  },
  {
   "cell_type": "code",
   "execution_count": null,
   "metadata": {},
   "outputs": [],
   "source": [
    "import pandas as pd\n",
    "import numpy as np\n",
    "import scipy as sp\n",
    "import plotly.express as px\n",
    "from pyspark.sql import functions as f\n",
    "import plotly.graph_objects as go"
   ]
  },
  {
   "cell_type": "code",
   "execution_count": null,
   "metadata": {},
   "outputs": [],
   "source": [
    "df = spark.read.format(\"mongo\").load()\n",
    "df = df.drop(\"_id\")\n",
    "df = df.orderBy(\"Mes\")\n",
    "df = df.withColumn(\"Mes\", df[\"Mes\"].cast(\"date\"))\n",
    "df = df.withColumn(\"Año\",f.year(df.Mes))"
   ]
  },
  {
   "cell_type": "code",
   "execution_count": null,
   "metadata": {},
   "outputs": [],
   "source": [
    "df.printSchema()"
   ]
  },
  {
   "cell_type": "code",
   "execution_count": null,
   "metadata": {},
   "outputs": [],
   "source": [
    "df.select(\"IPI_General\").collect()"
   ]
  },
  {
   "cell_type": "markdown",
   "metadata": {},
   "source": [
    "                                    Grafica Mensual De Los IPI"
   ]
  },
  {
   "cell_type": "code",
   "execution_count": null,
   "metadata": {},
   "outputs": [],
   "source": [
    "figIPIMensualLinea = px.line(df.toPandas(), x=\"Mes\" , y=['IPI_B_consumo_duradero','IPI_B_consumo_no_duradero',\"IPI_Bienes_de_consumo\",\"IPI_Bienes_de_equipo\",\"IPI_Bienes_intermedios\",\"IPI_Energia\",\"IPI_General\",\"IPI_Industrias_extractivas\",\"IPI_Industrias_manufactureras\",\"IPI_Suministro_elect-Gas-Agua_y_aire_acond\"], title='IPI Mensual')\n",
    "figIPIMensualLinea.show()"
   ]
  },
  {
   "cell_type": "code",
   "execution_count": null,
   "metadata": {},
   "outputs": [],
   "source": [
    "dfIPIAnualLinea = df.groupBy(\"Año\").avg(\"IPI_B_consumo_duradero\",'IPI_B_consumo_no_duradero',\"IPI_Bienes_de_consumo\",\"IPI_Bienes_de_equipo\",\"IPI_Bienes_intermedios\",\"IPI_Energia\",\"IPI_General\",\"IPI_Industrias_extractivas\",\"IPI_Industrias_manufactureras\",\"IPI_Suministro_elect-Gas-Agua_y_aire_acond\")"
   ]
  },
  {
   "cell_type": "code",
   "execution_count": null,
   "metadata": {},
   "outputs": [],
   "source": [
    "dfIPIAnualLinea = dfIPIAnualLinea.sort(\"Año\")"
   ]
  },
  {
   "cell_type": "code",
   "execution_count": null,
   "metadata": {},
   "outputs": [],
   "source": [
    "dfIPIAnualLinea = dfIPIAnualLinea.toPandas()"
   ]
  },
  {
   "cell_type": "markdown",
   "metadata": {},
   "source": [
    "                                                Grafica Anual De Los IPI"
   ]
  },
  {
   "cell_type": "code",
   "execution_count": null,
   "metadata": {},
   "outputs": [],
   "source": [
    "figIPIAnualLinea = px.line(dfIPIAnualLinea, x=\"Año\" , y=['avg(IPI_B_consumo_duradero)','avg(IPI_B_consumo_no_duradero)',\"avg(IPI_Bienes_de_consumo)\",\"avg(IPI_Bienes_de_equipo)\",\"avg(IPI_Bienes_intermedios)\",\"avg(IPI_Energia)\",\"avg(IPI_General)\",\"avg(IPI_Industrias_extractivas)\",\"avg(IPI_Industrias_manufactureras)\",\"avg(IPI_Suministro_elect-Gas-Agua_y_aire_acond)\"], title='IPI Por Año')\n",
    "figIPIAnualLinea.show()"
   ]
  },
  {
   "cell_type": "markdown",
   "metadata": {},
   "source": [
    "Ahora repetiremos los graficos anteriores con barras y asi veremos mejor los ipi totales y cuanto importa cada valor"
   ]
  },
  {
   "cell_type": "code",
   "execution_count": null,
   "metadata": {},
   "outputs": [],
   "source": [
    "dfIPIMensual = df"
   ]
  },
  {
   "cell_type": "code",
   "execution_count": null,
   "metadata": {},
   "outputs": [],
   "source": [
    "dfIPIMensual= dfIPIMensual.toPandas()"
   ]
  },
  {
   "cell_type": "markdown",
   "metadata": {},
   "source": [
    "                               Representacion grafica de barras stackeadas del IPI Mensual"
   ]
  },
  {
   "cell_type": "code",
   "execution_count": null,
   "metadata": {},
   "outputs": [],
   "source": [
    "figIPIMesualBarra = go.Figure(data=[\n",
    "    go.Bar(name=\"IPI B consumo duradero\", x=dfIPIMensual.Mes , y=dfIPIMensual.IPI_B_consumo_duradero),\n",
    "    go.Bar(name=\"IPI B consumo no duradero\", x=dfIPIMensual.Mes , y=dfIPIMensual.IPI_B_consumo_no_duradero),\n",
    "    go.Bar(name=\"IPI_Bienes_de_consumo\", x=dfIPIMensual.Mes , y=dfIPIMensual.IPI_Bienes_de_consumo),\n",
    "    go.Bar(name=\"IPI_Bienes_de_equipo\", x=dfIPIMensual.Mes , y=dfIPIMensual.IPI_Bienes_de_equipo),\n",
    "    go.Bar(name=\"IPI_Bienes_intermedios\", x=dfIPIMensual.Mes , y=dfIPIMensual.IPI_Bienes_intermedios),\n",
    "    go.Bar(name=\"IPI_Energia\", x=dfIPIMensual.Mes , y=dfIPIMensual.IPI_Energia),\n",
    "    go.Bar(name=\"IPI_General\", x=dfIPIMensual.Mes , y=dfIPIMensual.IPI_General),\n",
    "    go.Bar(name=\"IPI_Industrias_extractivas\", x=dfIPIMensual.Mes , y=dfIPIMensual.IPI_Industrias_extractivas),\n",
    "    go.Bar(name=\"IPI_Industrias_manufactureras\", x=dfIPIMensual.Mes , y=dfIPIMensual.IPI_Industrias_manufactureras),\n",
    "    go.Bar(name=\"IPI_Suministro_elect-Gas-Agua_y_aire_acond\", x=dfIPIMensual.Mes , y=dfIPIMensual[\"IPI_Suministro_elect-Gas-Agua_y_aire_acond\"])\n",
    "])\n",
    "figIPIMesualBarra.update_layout(barmode='stack')\n",
    "figIPIMesualBarra.show()"
   ]
  },
  {
   "cell_type": "markdown",
   "metadata": {},
   "source": [
    "                            Representacion grafica de barras stackeadas del IPI anual"
   ]
  },
  {
   "cell_type": "code",
   "execution_count": null,
   "metadata": {},
   "outputs": [],
   "source": [
    "figIPIAnualBarras = go.Figure(data=[\n",
    "    go.Bar(name=\"IPI B consumo duradero\", x=dfIPIAnualLinea.Año , y=dfIPIAnualLinea[\"avg(IPI_B_consumo_duradero)\"]),\n",
    "    go.Bar(name=\"IPI B consumo no duradero\", x=dfIPIAnualLinea.Año , y=dfIPIAnualLinea[\"avg(IPI_B_consumo_no_duradero)\"]),\n",
    "    go.Bar(name=\"IPI_Bienes_de_consumo\", x=dfIPIAnualLinea.Año , y=dfIPIAnualLinea[\"avg(IPI_Bienes_de_consumo)\"]),\n",
    "    go.Bar(name=\"IPI_Bienes_de_equipo\", x=dfIPIAnualLinea.Año , y=dfIPIAnualLinea[\"avg(IPI_Bienes_de_equipo)\"] ),\n",
    "    go.Bar(name=\"IPI_Bienes_intermedios\", x=dfIPIAnualLinea.Año , y=dfIPIAnualLinea[\"avg(IPI_Bienes_intermedios)\"]),\n",
    "    go.Bar(name=\"IPI_Energia\", x=dfIPIAnualLinea.Año , y=dfIPIAnualLinea[\"avg(IPI_Energia)\"]),\n",
    "    go.Bar(name=\"IPI_General\", x=dfIPIAnualLinea.Año , y=dfIPIAnualLinea[\"avg(IPI_General)\"]),\n",
    "    go.Bar(name=\"IPI_Industrias_extractivas\", x=dfIPIAnualLinea.Año , y=dfIPIAnualLinea[\"avg(IPI_Industrias_extractivas)\"]),\n",
    "    go.Bar(name=\"IPI_Industrias_manufactureras\", x=dfIPIAnualLinea.Año , y=dfIPIAnualLinea[\"avg(IPI_Industrias_manufactureras)\"]),\n",
    "    go.Bar(name=\"IPI_Suministro_elect-Gas-Agua_y_aire_acond\", x=dfIPIAnualLinea.Año , y=dfIPIAnualLinea[\"avg(IPI_Suministro_elect-Gas-Agua_y_aire_acond)\"]\n",
    "          )\n",
    "])\n",
    "figIPIAnualBarras.update_layout(barmode='stack' , title = \"IPI BARRAS ANUAL\")\n",
    "figIPIAnualBarras.show()"
   ]
  },
  {
   "cell_type": "markdown",
   "metadata": {},
   "source": [
    "Ahora sacamos el indice de variabilidad del ipi, este se halla restando al ipi obtenido en enero el ipi de diciembre "
   ]
  },
  {
   "cell_type": "code",
   "execution_count": null,
   "metadata": {},
   "outputs": [],
   "source": [
    "dfEnero = df.filter(f.month(df.Mes) == 1)\n",
    "dfDiciembre = df.filter(f.month(df.Mes) == 12)\n",
    "dfEnero = dfEnero.sort(\"Mes\")\n",
    "dfDiciembre = dfDiciembre.sort(\"Mes\")\n",
    "dfDiciembre = dfDiciembre.groupBy(\"Mes\",\"Año\").min()"
   ]
  },
  {
   "cell_type": "code",
   "execution_count": null,
   "metadata": {},
   "outputs": [],
   "source": [
    "dfVariaciones = dfEnero.join(dfDiciembre, on=\"Año\", how=\"inner\")\n",
    "dfVariaciones = dfVariaciones.toPandas()"
   ]
  },
  {
   "cell_type": "markdown",
   "metadata": {},
   "source": [
    "                                            Tabla de Variabilidad del IPI"
   ]
  },
  {
   "cell_type": "code",
   "execution_count": null,
   "metadata": {},
   "outputs": [],
   "source": [
    "figVariabilidad = go.Figure(data=[\n",
    "    go.Bar(name=\"IPI B consumo duradero\", x=dfVariaciones.Año , y=(dfVariaciones[\"IPI_B_consumo_duradero\"] - dfVariaciones[\"min(IPI_B_consumo_duradero)\"])/100),\n",
    "    go.Bar(name=\"IPI_B_consumo_no_duradero\", x=dfVariaciones.Año , y=(dfVariaciones[\"IPI_B_consumo_no_duradero\"] - dfVariaciones[\"min(IPI_B_consumo_no_duradero)\"])/100),\n",
    "    go.Bar(name=\"IPI_Bienes_de_consumo\", x=dfVariaciones.Año , y=(dfVariaciones[\"IPI_Bienes_de_consumo\"] - dfVariaciones[\"min(IPI_Bienes_de_consumo)\"])/100),\n",
    "    go.Bar(name=\"IPI_Bienes_de_equipo\", x=dfVariaciones.Año , y=(dfVariaciones[\"IPI_Bienes_de_equipo\"] - dfVariaciones[\"min(IPI_Bienes_de_equipo)\"])/100),\n",
    "    go.Bar(name=\"IPI_Bienes_intermedios\", x=dfVariaciones.Año , y=(dfVariaciones[\"IPI_Bienes_intermedios\"] - dfVariaciones[\"min(IPI_Bienes_intermedios)\"])/100),\n",
    "    go.Bar(name=\"IPI_Energia\", x=dfVariaciones.Año , y=(dfVariaciones[\"IPI_Energia\"] - dfVariaciones[\"min(IPI_Energia)\"])/100),\n",
    "    go.Bar(name=\"IPI_General\", x=dfVariaciones.Año , y=(dfVariaciones[\"IPI_General\"] - dfVariaciones[\"min(IPI_General)\"])/100),\n",
    "    go.Bar(name=\"IPI_Industrias_extractivas\", x=dfVariaciones.Año , y=(dfVariaciones[\"IPI_Industrias_extractivas\"] - dfVariaciones[\"min(IPI_Industrias_extractivas)\"])/100),\n",
    "    go.Bar(name=\"IPI_Industrias_manufactureras\", x=dfVariaciones.Año , y=(dfVariaciones[\"IPI_Industrias_manufactureras\"] - dfVariaciones[\"min(IPI_Industrias_manufactureras)\"])/100),\n",
    "    go.Bar(name=\"IPI_Suministro_elect-Gas-Agua_y_aire_acond\", x=dfVariaciones.Año , y=(dfVariaciones[\"IPI_Suministro_elect-Gas-Agua_y_aire_acond\"] - dfVariaciones[\"min(IPI_Suministro_elect-Gas-Agua_y_aire_acond)\"])/100)\n",
    "])\n",
    "figVariabilidad.update_layout(barmode='group' ,title= 'Indice de variabilidad del IPI')\n",
    "figVariabilidad.show()"
   ]
  },
  {
   "cell_type": "markdown",
   "metadata": {},
   "source": [
    "                            Finalmente los convertimos en archivos html de facil acceso."
   ]
  },
  {
   "cell_type": "code",
   "execution_count": null,
   "metadata": {},
   "outputs": [],
   "source": [
    "figIPIMensualLinea.write_html(\"C:/Users/david/OneDrive/Imágenes/GraficosPlotly/Economia/IPI/FiguraIPIPorMeses.html\")\n",
    "figIPIAnualLinea.write_html(\"C:/Users/david/OneDrive/Imágenes/GraficosPlotly/Economia/IPI/FiguraIPIAnual.html\")\n",
    "figIPIMesualBarra.write_html(\"C:/Users/david/OneDrive/Imágenes/GraficosPlotly/Economia/IPI/FiguraIPIMesualBarra.html\")\n",
    "figIPIAnualBarras.write_html(\"C:/Users/david/OneDrive/Imágenes/GraficosPlotly/Economia/IPI/FiguraIPIAnualBarras.html\")\n",
    "figVariabilidad.write_html(\"C:/Users/david/OneDrive/Imágenes/GraficosPlotly/Economia/IPI/FiguraVariabilidad.html\")"
   ]
  }
 ],
 "metadata": {
  "kernelspec": {
   "display_name": "Python 3",
   "language": "python",
   "name": "python3"
  },
  "language_info": {
   "codemirror_mode": {
    "name": "ipython",
    "version": 3
   },
   "file_extension": ".py",
   "mimetype": "text/x-python",
   "name": "python",
   "nbconvert_exporter": "python",
   "pygments_lexer": "ipython3",
   "version": "3.7.4"
  }
 },
 "nbformat": 4,
 "nbformat_minor": 2
}
