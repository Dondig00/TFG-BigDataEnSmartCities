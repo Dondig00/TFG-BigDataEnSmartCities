{
 "cells": [
  {
   "cell_type": "markdown",
   "metadata": {},
   "source": [
    "             Los datos son las cifras datadas de las casas de apuesta de castilla y leon."
   ]
  },
  {
   "cell_type": "code",
   "execution_count": null,
   "metadata": {},
   "outputs": [],
   "source": [
    "import pandas as pd\n",
    "import numpy as np\n",
    "import scipy as sp\n",
    "import plotly.express as px\n",
    "from pyspark.sql import functions as f\n",
    "import plotly.graph_objects as go"
   ]
  },
  {
   "cell_type": "code",
   "execution_count": null,
   "metadata": {},
   "outputs": [],
   "source": [
    "from pyspark.sql import SparkSession\n",
    "\n",
    "my_spark = SparkSession \\\n",
    "    .builder \\\n",
    "    .appName(\"PySparkShell\") \\\n",
    "    .config(\"spark.mongodb.input.uri\", \"mongodb://127.0.0.1/castillaYLeon.apuestas\") \\\n",
    "    .config(\"spark.mongodb.output.uri\", \"mongodb://127.0.0.1/castillaYLeon.apuestas\") \\\n",
    "    .getOrCreate()"
   ]
  },
  {
   "cell_type": "code",
   "execution_count": null,
   "metadata": {},
   "outputs": [],
   "source": [
    "df = spark.read.format(\"mongo\").load()\n",
    "df = df.drop(\"_id\")"
   ]
  },
  {
   "cell_type": "code",
   "execution_count": null,
   "metadata": {},
   "outputs": [],
   "source": [
    "dfApuestas = df.toPandas()"
   ]
  },
  {
   "cell_type": "code",
   "execution_count": null,
   "metadata": {},
   "outputs": [],
   "source": [
    "dfApuestas2019=df[df[\"Año\"]==2019]\n",
    "dfApuestas2020=df[df[\"Año\"]==2020]"
   ]
  },
  {
   "cell_type": "code",
   "execution_count": null,
   "metadata": {},
   "outputs": [],
   "source": [
    "dfApuestas2019=dfApuestas2019.sort(\"Trimestre\")\n",
    "dfApuestas2020=dfApuestas2020.sort(\"Trimestre\")"
   ]
  },
  {
   "cell_type": "markdown",
   "metadata": {},
   "source": [
    "    Divido la base de datos a dataframes de años, en cada año muestro los premios y ganancias por trimestre y hago el hover de la empresa"
   ]
  },
  {
   "cell_type": "code",
   "execution_count": null,
   "metadata": {},
   "outputs": [],
   "source": [
    "from plotly.subplots import make_subplots"
   ]
  },
  {
   "cell_type": "code",
   "execution_count": null,
   "metadata": {},
   "outputs": [],
   "source": [
    "dfApuestas2019= dfApuestas2019.toPandas()\n",
    "dfApuestas2020= dfApuestas2020.toPandas()"
   ]
  },
  {
   "cell_type": "markdown",
   "metadata": {},
   "source": [
    "Añado una fila falsa para que al crear la grafica del 2020 aparezca el 4º trimestre"
   ]
  },
  {
   "cell_type": "code",
   "execution_count": null,
   "metadata": {},
   "outputs": [],
   "source": [
    "row4Trimestre={'Año':2020,'Empresa':\"A\",'Periodo':\"T4 2020\",'Trimestre':\"4º\"}\n",
    "dfApuestas2020=dfApuestas2020.append(row4Trimestre,ignore_index=True)"
   ]
  },
  {
   "cell_type": "code",
   "execution_count": null,
   "metadata": {},
   "outputs": [],
   "source": [
    "figApuestasLinea = go.Figure( \n",
    ")\n",
    "figApuestasLinea = make_subplots( rows=1 , cols=2 , subplot_titles=(\"Gráfica Casas De Apuestas 2019\",\"Gráfica Casas De Apuestas 2020\"))\n",
    "figApuestasLinea.add_trace(\n",
    "    go.Scatter(name=\"Cantidades apostadas A 2019\", x=dfApuestas2019[dfApuestas2019[\"Empresa\"]==\"A\"].Trimestre , y=dfApuestas2019[dfApuestas2019[\"Empresa\"]==\"A\"][\"Cantidades apostadas\"], mode='lines+markers' , line=dict(color='firebrick')),row=1,col=1\n",
    " )\n",
    "figApuestasLinea.add_trace(go.Scatter(name=\"Cantidades apostadas B 2019\", x=dfApuestas2019[dfApuestas2019[\"Empresa\"]==\"B\"].Trimestre , y=dfApuestas2019[dfApuestas2019[\"Empresa\"]==\"B\"][\"Cantidades apostadas\"], mode='lines+markers', line=dict(color='royalblue')),row=1,col=1)\n",
    "figApuestasLinea.add_trace(go.Scatter(name=\"Cantidades apostadas C 2019\", x=dfApuestas2019[dfApuestas2019[\"Empresa\"]==\"C\"].Trimestre , y=dfApuestas2019[dfApuestas2019[\"Empresa\"]==\"C\"][\"Cantidades apostadas\"], mode='lines+markers', line=dict(color='green')),row=1,col=1)\n",
    "figApuestasLinea.add_trace(go.Scatter(name=\"Cantidades apostadas D 2019\", x=dfApuestas2019[dfApuestas2019[\"Empresa\"]==\"D\"].Trimestre , y=dfApuestas2019[dfApuestas2019[\"Empresa\"]==\"D\"][\"Cantidades apostadas\"], mode='lines+markers', line=dict(color='yellow')),row=1,col=1)\n",
    "figApuestasLinea.add_trace(go.Scatter(name=\"Premios otorgados A 2019\", x=dfApuestas2019[dfApuestas2019[\"Empresa\"]==\"A\"].Trimestre , y=dfApuestas2019[dfApuestas2019[\"Empresa\"]==\"A\"][\"Premios otorgados\"], mode='lines+markers', line=dict(color='firebrick',dash='dash')),row=1,col=1)\n",
    "figApuestasLinea.add_trace(go.Scatter(name=\"Premios otorgados B 2019\", x=dfApuestas2019[dfApuestas2019[\"Empresa\"]==\"B\"].Trimestre , y=dfApuestas2019[dfApuestas2019[\"Empresa\"]==\"B\"][\"Premios otorgados\"], mode='lines+markers', line=dict(color='royalblue',dash='dash')),row=1,col=1)\n",
    "figApuestasLinea.add_trace(go.Scatter(name=\"Premios otorgados C 2019\", x=dfApuestas2019[dfApuestas2019[\"Empresa\"]==\"C\"].Trimestre , y=dfApuestas2019[dfApuestas2019[\"Empresa\"]==\"C\"][\"Premios otorgados\"], mode='lines+markers', line=dict(color='green',dash='dash')),row=1,col=1)\n",
    "figApuestasLinea.add_trace(go.Scatter(name=\"Premios otorgados D 2019\", x=dfApuestas2019[dfApuestas2019[\"Empresa\"]==\"D\"].Trimestre , y=dfApuestas2019[dfApuestas2019[\"Empresa\"]==\"D\"][\"Premios otorgados\"], mode='lines+markers', line=dict(color='yellow',dash='dash')),row=1,col=1)\n",
    "\n",
    "figApuestasLinea.add_trace(go.Scatter(name=\"Cantidades apostadas A 2020\", x=dfApuestas2020[dfApuestas2020[\"Empresa\"]==\"A\"].Trimestre , y=dfApuestas2020[dfApuestas2020[\"Empresa\"]==\"A\"][\"Cantidades apostadas\"], mode='lines+markers', line=dict(color='firebrick')),row=1,col=2)\n",
    "figApuestasLinea.add_trace(go.Scatter(name=\"Cantidades apostadas B 2020\", x=dfApuestas2020[dfApuestas2020[\"Empresa\"]==\"B\"].Trimestre , y=dfApuestas2020[dfApuestas2020[\"Empresa\"]==\"B\"][\"Cantidades apostadas\"], mode='lines+markers', line=dict(color='royalblue')),row=1,col=2)\n",
    "figApuestasLinea.add_trace(go.Scatter(name=\"Cantidades apostadas C 2020\", x=dfApuestas2020[dfApuestas2020[\"Empresa\"]==\"C\"].Trimestre , y=dfApuestas2020[dfApuestas2020[\"Empresa\"]==\"C\"][\"Cantidades apostadas\"], mode='lines+markers', line=dict(color='green')),row=1,col=2)\n",
    "figApuestasLinea.add_trace(go.Scatter(name=\"Cantidades apostadas D 2020\", x=dfApuestas2020[dfApuestas2020[\"Empresa\"]==\"D\"].Trimestre , y=dfApuestas2020[dfApuestas2020[\"Empresa\"]==\"D\"][\"Cantidades apostadas\"], mode='lines+markers', line=dict(color='yellow')),row=1,col=2)\n",
    "figApuestasLinea.add_trace(go.Scatter(name=\"Premios otorgados A 2020\", x=dfApuestas2020[dfApuestas2020[\"Empresa\"]==\"A\"].Trimestre , y=dfApuestas2020[dfApuestas2020[\"Empresa\"]==\"A\"][\"Premios otorgados\"], mode='lines+markers', line=dict(color='firebrick',dash='dash')),row=1,col=2)\n",
    "figApuestasLinea.add_trace(go.Scatter(name=\"Premios otorgados B 2020\", x=dfApuestas2020[dfApuestas2020[\"Empresa\"]==\"B\"].Trimestre , y=dfApuestas2020[dfApuestas2020[\"Empresa\"]==\"B\"][\"Premios otorgados\"], mode='lines+markers', line=dict(color='royalblue',dash='dash')),row=1,col=2)\n",
    "figApuestasLinea.add_trace(go.Scatter(name=\"Premios otorgados C 2020\", x=dfApuestas2020[dfApuestas2020[\"Empresa\"]==\"C\"].Trimestre , y=dfApuestas2020[dfApuestas2020[\"Empresa\"]==\"C\"][\"Premios otorgados\"], mode='lines+markers', line=dict(color='green',dash='dash')),row=1,col=2)\n",
    "figApuestasLinea.add_trace(go.Scatter(name=\"Premios otorgados D 2020\", x=dfApuestas2020[dfApuestas2020[\"Empresa\"]==\"D\"].Trimestre , y=dfApuestas2020[dfApuestas2020[\"Empresa\"]==\"D\"][\"Premios otorgados\"], mode='lines+markers', line=dict(color='yellow',dash='dash')),row=1,col=2)\n",
    "\n",
    "figApuestasLinea.update_xaxes(title_text=\"Trimestres\",row=1) #range=[0,3])\n",
    "figApuestasLinea.update_yaxes(title_text=\"Importe(€)\",row=1)\n",
    "\n",
    "figApuestasLinea.update_layout(\n",
    "    legend_title=\"Movimiento Economico Empresas\",\n",
    "    font=dict(\n",
    "        color=\"black\"\n",
    "    )\n",
    ")\n",
    "\n",
    "#figApuestasLinea.update_layout(xaxis_range=[0,3.2])\n",
    "\n",
    "figApuestasLinea.show()"
   ]
  },
  {
   "cell_type": "code",
   "execution_count": null,
   "metadata": {},
   "outputs": [],
   "source": [
    "figAnualBarras = go.Figure()\n",
    "\n",
    "# Add traces, one for each slider step\n",
    "for years in dfApuestas[\"Año\"].unique(): #recorro un bucle con cada año\n",
    "    aux = dfApuestas[dfApuestas[\"Año\"]==years] #Creo un aux que sera el df con el año que necesito\n",
    "    aux=aux.sort_values(by=['Trimestre'])\n",
    "    if(years==2020):\n",
    "        aux=aux.append(row4Trimestre,ignore_index=True)\n",
    "    \n",
    "     \n",
    "    figAnualBarras.add_bar( #añado las barras de cyl correspondientes a este año\n",
    "        visible=False, #las ocultamos\n",
    "        name=\"Neto Empresa A\",\n",
    "        x=aux[aux[\"Empresa\"]==\"A\"].Trimestre , \n",
    "        y=aux[aux[\"Empresa\"]==\"A\"].Neto\n",
    "    )\n",
    "    figAnualBarras.add_bar( #añado las barras de cyl correspondientes a este año\n",
    "        visible=False, #las ocultamos\n",
    "        name=\"Neto Empresa B\",\n",
    "        x=aux[aux[\"Empresa\"]==\"B\"].Trimestre , \n",
    "        y=aux[aux[\"Empresa\"]==\"B\"].Neto\n",
    "    )\n",
    "    figAnualBarras.add_bar( #añado las barras de cyl correspondientes a este año\n",
    "        visible=False, #las ocultamos\n",
    "        name=\"Neto Empresa C\",\n",
    "        x=aux[aux[\"Empresa\"]==\"C\"].Trimestre , \n",
    "        y=aux[aux[\"Empresa\"]==\"C\"].Neto\n",
    "    )\n",
    "    figAnualBarras.add_bar( #añado las barras de cyl correspondientes a este año\n",
    "        visible=False, #las ocultamos\n",
    "        name=\"Neto Empresa D\",\n",
    "        x=aux[aux[\"Empresa\"]==\"D\"].Trimestre , \n",
    "        y=aux[aux[\"Empresa\"]==\"D\"].Neto\n",
    "    )\n",
    "    \n",
    "        \n",
    "\n",
    "# Hacemos que la 1º y la 2º barra de la figura sean visibles, de esta forma nada mas cargue el grafico nos los mostrara por pantalla.\n",
    "figAnualBarras.data[0].visible = True\n",
    "figAnualBarras.data[1].visible = True\n",
    "figAnualBarras.data[2].visible = True\n",
    "figAnualBarras.data[3].visible = True\n",
    "# Create and add slider\n",
    "steps = []\n",
    "#steps, son los pasos , los cambios que hay entre cada año\n",
    "# es en los steps donde hacemos visibles las barras y actualizamos la grafica\n",
    "for i in range(0,len(figAnualBarras.data),4): # recorro un bucle con todos los datos de la grafica, hago una iteracion de 2 en 2 debido a que me interesa sacar dos datos cada vez, dos barras\n",
    "    step = dict(\n",
    "        method=\"update\", \n",
    "        args=[{\"visible\": [False] * len(figAnualBarras.data)},  \n",
    "              {\"title\": \"Gráfica Neto Trimestral Casas De Apuestas Año: \" + str(dfApuestas.Año.unique().tolist()[int(i/4)])}] # layout attribute y nombre de la grafica\n",
    "    )\n",
    "    \n",
    "    step[\"args\"][0][\"visible\"][i] = True  # Toggle i'th trace to \"visible\", hacemos visible esta barra\n",
    "    step[\"args\"][0][\"visible\"][i+1] = True #y esta tambien pues necesitamos hacer visibles a las dos barras\n",
    "    step[\"args\"][0][\"visible\"][i+2] = True\n",
    "    step[\"args\"][0][\"visible\"][i+3] = True\n",
    "    \n",
    "    steps.append(step)\n",
    "#sliders\n",
    "sliders = [dict(\n",
    "    active=dfApuestas[\"Año\"].nunique(),\n",
    "    currentvalue={\"prefix\":\"Año: \"}, #el prefijo que aparece entre la grafica y justo encima del slider\n",
    "    pad={\"t\": dfApuestas[\"Año\"].nunique()}, #el numero de steps que tendra el slider\n",
    "    steps=steps,\n",
    "    y=-0.2\n",
    ")]\n",
    "\n",
    "##\n",
    "#añado los sliders y estilizo un poco el grafico \n",
    "figAnualBarras.update_layout(\n",
    "    sliders=sliders,\n",
    "    xaxis_title = \"Trimestre\",\n",
    "    yaxis_title = \"Importe(€)\",\n",
    "    legend_title=\"Neto\",\n",
    "    font=dict(\n",
    "        color=\"black\"\n",
    "    ),\n",
    "    title={\n",
    "        'text': \"Gráfica Neto Trimestral Casas De Apuestas\",\n",
    "        'y': 0.9,\n",
    "        'x':0.4,\n",
    "        'xanchor': 'center',\n",
    "        'yanchor': 'top'\n",
    "    }\n",
    ")\n",
    "\n",
    "##\n",
    "# Edit slider labels\n",
    "figAnualBarras['layout']['sliders'][0]['currentvalue']['prefix']='Año: '\n",
    "for i, date in enumerate(dfApuestas[\"Año\"].unique().tolist(), start = 0):\n",
    "#for i,date in enumerate(lista, start = 0):\n",
    "    figAnualBarras['layout']['sliders'][0]['steps'][i]['label']= date\n",
    "    \n",
    "\n",
    "figAnualBarras.show()"
   ]
  },
  {
   "cell_type": "code",
   "execution_count": null,
   "metadata": {},
   "outputs": [],
   "source": [
    "figApuestasLinea.write_html(\"C:/Users/david/OneDrive/Imágenes/GraficosPlotly/Economia/Apuestas/FiguraApuestasIngresosYPerdidas.html\")\n",
    "figAnualBarras.write_html(\"C:/Users/david/OneDrive/Imágenes/GraficosPlotly/Economia/Apuestas/FiguraAnualApuestasNeto.html\")"
   ]
  }
 ],
 "metadata": {
  "kernelspec": {
   "display_name": "Python 3",
   "language": "python",
   "name": "python3"
  },
  "language_info": {
   "codemirror_mode": {
    "name": "ipython",
    "version": 3
   },
   "file_extension": ".py",
   "mimetype": "text/x-python",
   "name": "python",
   "nbconvert_exporter": "python",
   "pygments_lexer": "ipython3",
   "version": "3.7.4"
  }
 },
 "nbformat": 4,
 "nbformat_minor": 2
}
