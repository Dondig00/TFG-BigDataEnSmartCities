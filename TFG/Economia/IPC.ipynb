{
 "cells": [
  {
   "cell_type": "markdown",
   "metadata": {},
   "source": [
    "        El IPC o Indice de precios al consumidor es un indice economico en el que se valoran los precios de un determinado conjunto de bienes y servicios determinado sobre la base de la encuesta continua de presupuestos familiares. \n",
    "        Si el porcentaje es positivo indica una subida de los precios, mientras que si es negativo una bajada"
   ]
  },
  {
   "cell_type": "code",
   "execution_count": null,
   "metadata": {},
   "outputs": [],
   "source": [
    "import pandas as pd\n",
    "import numpy as np\n",
    "import scipy as sp\n",
    "import plotly.express as px\n",
    "from pyspark.sql import functions as f\n",
    "import plotly.graph_objects as go"
   ]
  },
  {
   "cell_type": "code",
   "execution_count": null,
   "metadata": {},
   "outputs": [],
   "source": [
    "from pyspark.sql import SparkSession\n",
    "\n",
    "my_spark = SparkSession \\\n",
    "    .builder \\\n",
    "    .appName(\"PySparkShell\") \\\n",
    "    .config(\"spark.mongodb.input.uri\", \"mongodb://127.0.0.1/castillaYLeon.IPC\") \\\n",
    "    .config(\"spark.mongodb.output.uri\", \"mongodb://127.0.0.1/castillaYLeon.IPC\") \\\n",
    "    .getOrCreate()\n"
   ]
  },
  {
   "cell_type": "code",
   "execution_count": null,
   "metadata": {},
   "outputs": [],
   "source": [
    "df = spark.read.format(\"mongo\").load()\n",
    "df = df.drop(\"_id\")\n",
    "df = df.withColumn(\"MES\",f.to_date(df.MES,'MM-yyyy').alias('dt'))\n",
    "df = df.withColumn(\"Año\",f.year(df.MES))\n",
    "df = df.orderBy(\"MES\")"
   ]
  },
  {
   "cell_type": "code",
   "execution_count": null,
   "metadata": {},
   "outputs": [],
   "source": [
    "dfIPC = df.toPandas()"
   ]
  },
  {
   "cell_type": "code",
   "execution_count": null,
   "metadata": {},
   "outputs": [],
   "source": [
    "figIPCAnualLine = go.Figure(data=[\n",
    "    go.Scatter(name=\"IPC-VARIACIÓN ANUAL(CyL)\", x=dfIPC.MES , y=dfIPC[\"PRECIOS - INDICE PRECIOS CONSUMO (IPC) - BASE 2016 - VARIACIÓN ANUAL(CyL)\"], mode='lines+markers'),\n",
    "    go.Scatter(name=\"IPC-VARIACIÓN ANUAL(España)\", x=dfIPC.MES , y=dfIPC[\"PRECIOS - INDICE PRECIOS CONSUMO (IPC) - BASE 2016 - VARIACIÓN ANUAL(España)\"],mode='markers')\n",
    "]                            )\n",
    "#el slider de la grafica pequeño junto al rango que permite seleccionar mas el boton de step por año\n",
    "# esto puede ser utilizado para una grafica de express(px) debido a que es un update_layout\n",
    "figIPCAnualLine.update_layout(\n",
    "                            xaxis=dict(\n",
    "                                rangeselector=dict(\n",
    "                                    buttons=list([\n",
    "                                        dict(count=1,\n",
    "                                             step=\"year\",\n",
    "                                             stepmode=\"todate\"),\n",
    "                                        \n",
    "                                    ])\n",
    "                                ),\n",
    "                                rangeslider=dict(\n",
    "                                    visible=True\n",
    "                                ),\n",
    "    ),\n",
    "    #title = \"Grafica IPC Anual en linea\", #Este no seria necesario pues lo rehago mas abajo pero asi muestro como hacerlo simple aunque sin style\n",
    "    xaxis_title = \"Periodo\",\n",
    "    yaxis_title = \"Indice Precios\",\n",
    "    legend_title=\"Precios\",\n",
    "    font=dict(\n",
    "        family=\"Courier New, monospace\",\n",
    "        size=18,\n",
    "        color=\"RebeccaPurple\"\n",
    "    ),\n",
    "    title={\n",
    "        'text': \"Grafica IPC Anual en linea\",\n",
    "        'y': 0.9,\n",
    "        'x':0.5,\n",
    "        'xanchor': 'center',\n",
    "        'yanchor': 'top'\n",
    "    }\n",
    ")\n",
    "\n",
    "figIPCAnualLine.show()"
   ]
  },
  {
   "cell_type": "code",
   "execution_count": null,
   "metadata": {},
   "outputs": [],
   "source": [
    "figIPCAnualBarras = go.Figure()\n",
    "\n",
    "# Add traces, one for each slider step\n",
    "for years in dfIPC[\"Año\"].unique(): #recorro un bucle con cada año\n",
    "    aux = dfIPC[dfIPC[\"Año\"]==years] #Creo un aux que sera el df con el año que necesito\n",
    "     \n",
    "    figIPCAnualBarras.add_bar( #añado las barras de cyl correspondientes a este año\n",
    "        visible=False, #las ocultamos\n",
    "        name=\"IPC-VARIACIÓN ANUAL(CyL)\",\n",
    "        x=aux.MES,\n",
    "        y=aux[\"PRECIOS - INDICE PRECIOS CONSUMO (IPC) - BASE 2016 - VARIACIÓN ANUAL(CyL)\"]\n",
    "    )\n",
    "    figIPCAnualBarras.add_bar( #añado las barras de españa correspondientes a este año \n",
    "        visible=False, # las ocultamos\n",
    "        name=\"IPC-VARIACIÓN ANUAL(España)\",\n",
    "        x=aux.MES,\n",
    "        y=aux[\"PRECIOS - INDICE PRECIOS CONSUMO (IPC) - BASE 2016 - VARIACIÓN ANUAL(España)\"]\n",
    "    )\n",
    "        \n",
    "\n",
    "# Hacemos que la 1º y la 2º barra de la figura sean visibles, de esta forma nada mas cargue el grafico nos los mostrara por pantalla.\n",
    "figIPCAnualBarras.data[0].visible = True\n",
    "figIPCAnualBarras.data[1].visible = True\n",
    "# Create and add slider\n",
    "steps = []\n",
    "#steps, son los pasos , los cambios que hay entre cada año\n",
    "# es en los steps donde hacemos visibles las barras y actualizamos la grafica\n",
    "for i in range(0,len(figIPCAnualBarras.data),2): # recorro un bucle con todos los datos de la grafica, hago una iteracion de 2 en 2 debido a que me interesa sacar dos datos cada vez, dos barras\n",
    "    step = dict(\n",
    "        method=\"update\", \n",
    "        args=[{\"visible\": [False] * len(figIPCAnualBarras.data)},  \n",
    "              {\"title\": \"Grafica IPC año: \" + str(dfIPC.Año.unique().tolist()[int(i/2)])}] # layout attribute y nombre de la grafica\n",
    "    )\n",
    "    \n",
    "    step[\"args\"][0][\"visible\"][i] = True  # Toggle i'th trace to \"visible\", hacemos visible esta barra\n",
    "    step[\"args\"][0][\"visible\"][i+1] = True #y esta tambien pues necesitamos hacer visibles a las dos barras\n",
    "    \n",
    "    steps.append(step)\n",
    "#sliders\n",
    "sliders = [dict(\n",
    "    active=dfIPC[\"Año\"].nunique(),\n",
    "    currentvalue={\"prefix\":\"Año: \"}, #el prefijo que aparece entre la grafica y justo encima del slider\n",
    "    pad={\"t\": dfIPC[\"Año\"].nunique()}, #el numero de steps que tendra el slider\n",
    "    steps=steps\n",
    ")]\n",
    "\n",
    "##\n",
    "#añado los sliders y estilizo un poco el grafico \n",
    "figIPCAnualBarras.update_layout(\n",
    "    sliders=sliders,\n",
    "    xaxis_title = \"Periodo\",\n",
    "    yaxis_title = \"Indice Precios\",\n",
    "    legend_title=\"Precios\",\n",
    "    font=dict(\n",
    "        color=\"brown\"\n",
    "    ),\n",
    "    title={\n",
    "        'text': \"Grafica IPC Anual en Barra\",\n",
    "        'y': 0.9,\n",
    "        'x':0.4,\n",
    "        'xanchor': 'center',\n",
    "        'yanchor': 'top'\n",
    "    }\n",
    ")\n",
    "\n",
    "##\n",
    "# Edit slider labels\n",
    "figIPCAnualBarras['layout']['sliders'][0]['currentvalue']['prefix']='Año: '\n",
    "for i, date in enumerate(dfIPC[\"Año\"].unique().tolist(), start = 0):\n",
    "#for i,date in enumerate(lista, start = 0):\n",
    "    figIPCAnualBarras['layout']['sliders'][0]['steps'][i]['label']= date\n",
    "    \n",
    "\n",
    "figIPCAnualBarras.show()"
   ]
  },
  {
   "cell_type": "code",
   "execution_count": null,
   "metadata": {},
   "outputs": [],
   "source": [
    "figIPCAnualLine.write_html(\"C:/Users/david/OneDrive/Imágenes/GraficosPlotly/Economia/IPC/FiguraIPCDiferenciaEspCyLLinea.html\")\n",
    "figIPCAnualBarras.write_html(\"C:/Users/david/OneDrive/Imágenes/GraficosPlotly/Economia/IPC/FiguraIPCDiferenciaEspCyLBarra.html\")"
   ]
  }
 ],
 "metadata": {
  "kernelspec": {
   "display_name": "Python 3",
   "language": "python",
   "name": "python3"
  },
  "language_info": {
   "codemirror_mode": {
    "name": "ipython",
    "version": 3
   },
   "file_extension": ".py",
   "mimetype": "text/x-python",
   "name": "python",
   "nbconvert_exporter": "python",
   "pygments_lexer": "ipython3",
   "version": "3.7.4"
  }
 },
 "nbformat": 4,
 "nbformat_minor": 2
}
